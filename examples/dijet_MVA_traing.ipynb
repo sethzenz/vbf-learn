{
 "cells": [
  {
   "cell_type": "code",
   "execution_count": 1,
   "metadata": {},
   "outputs": [],
   "source": [
    "import matplotlib.pyplot as plt\n",
    "import numpy  as np\n",
    "import pandas as pd\n",
    "\n",
    "#matplotlib inline\n",
    "#plt.style.use('physics')\n",
    "\n",
    "plt.rcParams['axes.grid'       ]  = False\n",
    "plt.rcParams['xtick.labelsize' ]  = 14\n",
    "plt.rcParams['ytick.labelsize' ]  = 14\n",
    "plt.rcParams['axes.labelsize'  ]  = 14\n",
    "plt.rcParams['legend.fancybox' ]  = False\n",
    "\n",
    "pd.options.mode.chained_assignment = None"
   ]
  },
  {
   "cell_type": "markdown",
   "metadata": {},
   "source": [
    "Let load the data from the root file using the small libray that you can find in here [1]. \n",
    "This read a jason file that contains the features and the samples that will be used in the training. "
   ]
  },
  {
   "cell_type": "code",
   "execution_count": 2,
   "metadata": {
    "scrolled": true
   },
   "outputs": [
    {
     "name": "stdout",
     "output_type": "stream",
     "text": [
      "--2018-02-02 10:45:07--  https://yhaddad.web.cern.ch/yhaddad/VBF/misc/hgg-double-fake-trees-training-2017.h5\n",
      "Resolving yhaddad.web.cern.ch... 2001:1458:201:a4::100:18e, 188.184.65.148\n",
      "Connecting to yhaddad.web.cern.ch|2001:1458:201:a4::100:18e|:443... connected.\n",
      "HTTP request sent, awaiting response... 200 OK\n",
      "Length: 221983169 (212M) [text/plain]\n",
      "Saving to: 'hgg-double-fake-trees-training-2017.h5.2'\n",
      "\n",
      "hgg-double-fake-tre 100%[===================>] 211.70M  30.3MB/s    in 7.2s    \n",
      "\n",
      "2018-02-02 10:45:14 (29.4 MB/s) - 'hgg-double-fake-trees-training-2017.h5.2' saved [221983169/221983169]\n",
      "\n"
     ]
    }
   ],
   "source": [
    "# Use wget to get the example file\n",
    "! wget https://yhaddad.web.cern.ch/yhaddad/VBF/misc/hgg-double-fake-trees-training-2017.h5"
   ]
  },
  {
   "cell_type": "code",
   "execution_count": 3,
   "metadata": {},
   "outputs": [],
   "source": [
    "indata = pd.read_hdf('hgg-double-fake-trees-training-2017.h5')"
   ]
  },
  {
   "cell_type": "markdown",
   "metadata": {
    "collapsed": true
   },
   "source": [
    "# Training"
   ]
  },
  {
   "cell_type": "code",
   "execution_count": 4,
   "metadata": {},
   "outputs": [
    {
     "data": {
      "text/html": [
       "<div>\n",
       "<style scoped>\n",
       "    .dataframe tbody tr th:only-of-type {\n",
       "        vertical-align: middle;\n",
       "    }\n",
       "\n",
       "    .dataframe tbody tr th {\n",
       "        vertical-align: top;\n",
       "    }\n",
       "\n",
       "    .dataframe thead th {\n",
       "        text-align: right;\n",
       "    }\n",
       "</style>\n",
       "<table border=\"1\" class=\"dataframe\">\n",
       "  <thead>\n",
       "    <tr style=\"text-align: right;\">\n",
       "      <th></th>\n",
       "      <th>Y</th>\n",
       "      <th>Z</th>\n",
       "      <th>avg_et</th>\n",
       "      <th>avg_pt</th>\n",
       "      <th>cr_region</th>\n",
       "      <th>diff_et</th>\n",
       "      <th>dijet_LeadJPt</th>\n",
       "      <th>dijet_Mjj</th>\n",
       "      <th>dijet_SubJPt</th>\n",
       "      <th>dijet_Zep</th>\n",
       "      <th>...</th>\n",
       "      <th>max_id</th>\n",
       "      <th>min_eta</th>\n",
       "      <th>min_id</th>\n",
       "      <th>n_jet_30</th>\n",
       "      <th>pass_id</th>\n",
       "      <th>sample</th>\n",
       "      <th>sublPho_PToM</th>\n",
       "      <th>subl_eta_cat</th>\n",
       "      <th>weight</th>\n",
       "      <th>weight_bins</th>\n",
       "    </tr>\n",
       "  </thead>\n",
       "  <tbody>\n",
       "    <tr>\n",
       "      <th>37</th>\n",
       "      <td>0.0</td>\n",
       "      <td>0.0</td>\n",
       "      <td>43.238091</td>\n",
       "      <td>43.238091</td>\n",
       "      <td>PF</td>\n",
       "      <td>16.603214</td>\n",
       "      <td>151.844696</td>\n",
       "      <td>348.233521</td>\n",
       "      <td>82.960609</td>\n",
       "      <td>1.825968</td>\n",
       "      <td>...</td>\n",
       "      <td>0.863102</td>\n",
       "      <td>0.290157</td>\n",
       "      <td>-0.738678</td>\n",
       "      <td>2.0</td>\n",
       "      <td>False</td>\n",
       "      <td>QCD</td>\n",
       "      <td>0.275225</td>\n",
       "      <td>EE</td>\n",
       "      <td>0.010294</td>\n",
       "      <td>1.0</td>\n",
       "    </tr>\n",
       "    <tr>\n",
       "      <th>76</th>\n",
       "      <td>0.0</td>\n",
       "      <td>0.0</td>\n",
       "      <td>66.642220</td>\n",
       "      <td>66.642220</td>\n",
       "      <td>PF</td>\n",
       "      <td>21.410797</td>\n",
       "      <td>126.658180</td>\n",
       "      <td>366.362183</td>\n",
       "      <td>102.719681</td>\n",
       "      <td>3.985884</td>\n",
       "      <td>...</td>\n",
       "      <td>0.955794</td>\n",
       "      <td>1.347164</td>\n",
       "      <td>-0.981366</td>\n",
       "      <td>7.0</td>\n",
       "      <td>False</td>\n",
       "      <td>QCD</td>\n",
       "      <td>0.427067</td>\n",
       "      <td>EE</td>\n",
       "      <td>0.008930</td>\n",
       "      <td>2.0</td>\n",
       "    </tr>\n",
       "    <tr>\n",
       "      <th>120</th>\n",
       "      <td>0.0</td>\n",
       "      <td>0.0</td>\n",
       "      <td>54.669121</td>\n",
       "      <td>54.669121</td>\n",
       "      <td>PF</td>\n",
       "      <td>10.297127</td>\n",
       "      <td>129.755035</td>\n",
       "      <td>287.697021</td>\n",
       "      <td>110.578766</td>\n",
       "      <td>1.410670</td>\n",
       "      <td>...</td>\n",
       "      <td>0.917501</td>\n",
       "      <td>0.579953</td>\n",
       "      <td>-0.982321</td>\n",
       "      <td>3.0</td>\n",
       "      <td>False</td>\n",
       "      <td>QCD</td>\n",
       "      <td>0.384947</td>\n",
       "      <td>EB</td>\n",
       "      <td>0.007943</td>\n",
       "      <td>2.0</td>\n",
       "    </tr>\n",
       "    <tr>\n",
       "      <th>121</th>\n",
       "      <td>0.0</td>\n",
       "      <td>0.0</td>\n",
       "      <td>33.677986</td>\n",
       "      <td>33.677986</td>\n",
       "      <td>PF</td>\n",
       "      <td>13.121181</td>\n",
       "      <td>204.726944</td>\n",
       "      <td>302.357788</td>\n",
       "      <td>97.571335</td>\n",
       "      <td>0.526756</td>\n",
       "      <td>...</td>\n",
       "      <td>0.913246</td>\n",
       "      <td>0.407226</td>\n",
       "      <td>-0.496881</td>\n",
       "      <td>3.0</td>\n",
       "      <td>False</td>\n",
       "      <td>QCD</td>\n",
       "      <td>0.259094</td>\n",
       "      <td>EE</td>\n",
       "      <td>0.012077</td>\n",
       "      <td>0.0</td>\n",
       "    </tr>\n",
       "    <tr>\n",
       "      <th>194</th>\n",
       "      <td>0.0</td>\n",
       "      <td>0.0</td>\n",
       "      <td>87.695053</td>\n",
       "      <td>87.695053</td>\n",
       "      <td>PF</td>\n",
       "      <td>110.445801</td>\n",
       "      <td>260.928192</td>\n",
       "      <td>350.390686</td>\n",
       "      <td>118.736870</td>\n",
       "      <td>1.365499</td>\n",
       "      <td>...</td>\n",
       "      <td>0.973193</td>\n",
       "      <td>1.819954</td>\n",
       "      <td>-0.965216</td>\n",
       "      <td>3.0</td>\n",
       "      <td>False</td>\n",
       "      <td>QCD</td>\n",
       "      <td>0.276597</td>\n",
       "      <td>EE</td>\n",
       "      <td>0.010294</td>\n",
       "      <td>1.0</td>\n",
       "    </tr>\n",
       "  </tbody>\n",
       "</table>\n",
       "<p>5 rows × 56 columns</p>\n",
       "</div>"
      ],
      "text/plain": [
       "       Y    Z     avg_et     avg_pt cr_region     diff_et  dijet_LeadJPt  \\\n",
       "37   0.0  0.0  43.238091  43.238091        PF   16.603214     151.844696   \n",
       "76   0.0  0.0  66.642220  66.642220        PF   21.410797     126.658180   \n",
       "120  0.0  0.0  54.669121  54.669121        PF   10.297127     129.755035   \n",
       "121  0.0  0.0  33.677986  33.677986        PF   13.121181     204.726944   \n",
       "194  0.0  0.0  87.695053  87.695053        PF  110.445801     260.928192   \n",
       "\n",
       "      dijet_Mjj  dijet_SubJPt  dijet_Zep     ...         max_id   min_eta  \\\n",
       "37   348.233521     82.960609   1.825968     ...       0.863102  0.290157   \n",
       "76   366.362183    102.719681   3.985884     ...       0.955794  1.347164   \n",
       "120  287.697021    110.578766   1.410670     ...       0.917501  0.579953   \n",
       "121  302.357788     97.571335   0.526756     ...       0.913246  0.407226   \n",
       "194  350.390686    118.736870   1.365499     ...       0.973193  1.819954   \n",
       "\n",
       "       min_id  n_jet_30  pass_id  sample  sublPho_PToM  subl_eta_cat  \\\n",
       "37  -0.738678       2.0    False     QCD      0.275225            EE   \n",
       "76  -0.981366       7.0    False     QCD      0.427067            EE   \n",
       "120 -0.982321       3.0    False     QCD      0.384947            EB   \n",
       "121 -0.496881       3.0    False     QCD      0.259094            EE   \n",
       "194 -0.965216       3.0    False     QCD      0.276597            EE   \n",
       "\n",
       "       weight  weight_bins  \n",
       "37   0.010294          1.0  \n",
       "76   0.008930          2.0  \n",
       "120  0.007943          2.0  \n",
       "121  0.012077          0.0  \n",
       "194  0.010294          1.0  \n",
       "\n",
       "[5 rows x 56 columns]"
      ]
     },
     "execution_count": 4,
     "metadata": {},
     "output_type": "execute_result"
    }
   ],
   "source": [
    "indata.head()"
   ]
  },
  {
   "cell_type": "code",
   "execution_count": 5,
   "metadata": {},
   "outputs": [],
   "source": [
    "indata['dijet_centrality_gg'] = np.exp(-4*(indata.dijet_Zep/indata.dijet_abs_dEta)**2)"
   ]
  },
  {
   "cell_type": "code",
   "execution_count": 6,
   "metadata": {},
   "outputs": [],
   "source": [
    "df_bkgs = indata[\n",
    "    (indata['sample'] != 'data' ) & \n",
    "    (indata['sample'] != 'qcd'  ) & \n",
    "    (indata['sample'] != 'vbf'  ) &\n",
    "    (indata['sample'] != 'gjet' ) & \n",
    "    (indata['sample'] != 'zee'  )\n",
    "]\n",
    "df_mc   = indata[\n",
    "    (indata['sample'] != 'data') & \n",
    "    (indata['sample'] != 'vbf' ) &\n",
    "    (indata['sample'] != 'zee' ) & \n",
    "    (indata['sample'] != 'QCD')\n",
    "]\n",
    "df_sign = indata[\n",
    "    (indata['sample'] == 'vbf'  )\n",
    "]\n",
    "df_data = indata[\n",
    "    (indata['sample'] == 'data')&\n",
    "    (np.abs(indata['dipho_mass'] - 125)>10)\n",
    "]"
   ]
  },
  {
   "cell_type": "code",
   "execution_count": 7,
   "metadata": {},
   "outputs": [],
   "source": [
    "import numpy  as np\n",
    "import pandas as pd\n",
    "from sklearn.preprocessing import label_binarize\n",
    "# == sklearn ==\n",
    "from sklearn.model_selection  import train_test_split\n",
    "from sklearn.model_selection  import cross_val_score\n",
    "\n",
    "_features_ = [u'dijet_LeadJPt'  ,u'dijet_SubJPt', \n",
    "              u'dijet_abs_dEta' ,u'dijet_Mjj', \n",
    "              u'dijet_centrality_gg',u'dijet_dipho_dphi_trunc',\n",
    "              u'dijet_dphi'     ,u'dijet_minDRJetPho',\n",
    "              u'leadPho_PToM'   ,u'sublPho_PToM']\n",
    "\n",
    "def vbf_presel(data):\n",
    "    return (\n",
    "        (data[\"leadPho_PToM\"       ]> (1/3.0))&\n",
    "        (data[\"sublPho_PToM\"       ]> (1/4.0))&\n",
    "        (data[\"dijet_LeadJPt\"      ]> 40     )& \n",
    "        (data[\"dijet_SubJPt\"       ]> 30     )&\n",
    "        (data[\"dijet_Mjj\"          ]> 250    )&\n",
    "        (data[\"dipho_mass\"         ]> 100    )&\n",
    "        (data[\"dipho_mass\"         ]< 180    ))\n",
    "\n",
    "def vbf_relax(data):\n",
    "    return (\n",
    "        (data[\"leadPho_PToM\"       ]> (1/4.0))&\n",
    "        (data[\"sublPho_PToM\"       ]> (1/5.0))&\n",
    "        (data[\"dijet_LeadJPt\"      ]> 30     )& \n",
    "        (data[\"dijet_SubJPt\"       ]> 20     )&\n",
    "        (data[\"dijet_Mjj\"          ]> 100    )&\n",
    "        (data[\"dipho_mass\"         ]> 100    )&\n",
    "        (data[\"dipho_mass\"         ]< 180    ))"
   ]
  },
  {
   "cell_type": "code",
   "execution_count": 8,
   "metadata": {},
   "outputs": [
    {
     "data": {
      "text/plain": [
       "Index([u'Y', u'Z', u'avg_et', u'avg_pt', u'cr_region', u'diff_et',\n",
       "       u'dijet_LeadJPt', u'dijet_Mjj', u'dijet_SubJPt', u'dijet_Zep',\n",
       "       u'dijet_abs_dEta', u'dijet_dipho_dphi', u'dijet_dipho_dphi_trunc',\n",
       "       u'dijet_dphi', u'dijet_jet1_QGL', u'dijet_jet2_QGL', u'dijet_leadEta',\n",
       "       u'dijet_minDRJetPho', u'dijet_mva', u'dijet_subleadEta', u'dipho_PToM',\n",
       "       u'dipho_cosphi', u'dipho_dijet_MVA', u'dipho_leadEt', u'dipho_leadEta',\n",
       "       u'dipho_leadIDMVA', u'dipho_leadPt', u'dipho_lead_elveto',\n",
       "       u'dipho_lead_sieie', u'dipho_lead_sigmaEoE', u'dipho_mass',\n",
       "       u'dipho_mva', u'dipho_subleadEt', u'dipho_subleadEta',\n",
       "       u'dipho_subleadIDMVA', u'dipho_subleadPt', u'dipho_sublead_elveto',\n",
       "       u'dipho_sublead_sieie', u'dipho_sublead_sigmaEoE', u'eta_cat',\n",
       "       u'fail_id', u'isvbf', u'leadPho_PToM', u'lead_eta_cat', u'm_sideband',\n",
       "       u'max_eta', u'max_id', u'min_eta', u'min_id', u'n_jet_30', u'pass_id',\n",
       "       u'sample', u'sublPho_PToM', u'subl_eta_cat', u'weight', u'weight_bins',\n",
       "       u'dijet_centrality_gg'],\n",
       "      dtype='object')"
      ]
     },
     "execution_count": 8,
     "metadata": {},
     "output_type": "execute_result"
    }
   ],
   "source": [
    "df_sign.columns"
   ]
  },
  {
   "cell_type": "code",
   "execution_count": 9,
   "metadata": {},
   "outputs": [],
   "source": [
    "df_bkgs = df_bkgs[vbf_presel(df_bkgs)]\n",
    "df_mc   = df_mc  [vbf_presel(df_mc  )]\n",
    "df_sign = df_sign[vbf_presel(df_sign)]\n",
    "df_data = df_data[vbf_presel(df_data)]\n",
    "\n",
    "D  =  np.concatenate((df_sign[_features_],df_bkgs[_features_]))\n",
    "Y  =  np.concatenate((np.ones(df_sign.shape[0]),np.zeros(df_bkgs.shape[0])))\n",
    "W  =  np.concatenate((df_sign['weight'],df_bkgs['weight']))\n",
    "I  =  np.concatenate((df_sign['sample'],df_bkgs['sample']))\n",
    "O  =  np.concatenate((df_sign['dipho_mass'],df_bkgs['dipho_mass']))\n",
    "\n",
    "X_data  =  np.concatenate((df_sign[_features_],df_data[_features_]))\n",
    "Y_data  =  np.concatenate((np.ones(df_sign.shape[0]),np.zeros(df_data.shape[0])))\n",
    "W_data  =  np.concatenate((df_sign['weight'],df_data['weight']))\n",
    "I_data  =  np.concatenate((df_sign['sample'],df_data['sample']))\n",
    "O_data  =  np.concatenate((df_sign['dipho_mass'],df_data['dipho_mass']))"
   ]
  },
  {
   "cell_type": "code",
   "execution_count": 10,
   "metadata": {},
   "outputs": [],
   "source": [
    "from sklearn.metrics import accuracy_score\n",
    "from sklearn.model_selection import train_test_split, cross_val_score\n",
    "\n",
    "np.random.seed(42)\n",
    "\n",
    "(\n",
    "    X_train, X_valid, \n",
    "    Y_train, Y_valid,\n",
    "    W_train, W_valid,\n",
    "    I_train, I_valid,\n",
    "    O_train, O_valid\n",
    "    \n",
    ") = train_test_split(\n",
    "    D, Y, W, I, O,\n",
    "    test_size=0.8,  # 0.2 was thedefault\n",
    "    random_state=17\n",
    ")\n",
    "\n",
    "W_train = W_train * (W.sum()/W_train.sum())\n",
    "W_valid = W_valid * (W.sum()/W_valid.sum())"
   ]
  },
  {
   "cell_type": "code",
   "execution_count": 11,
   "metadata": {},
   "outputs": [
    {
     "name": "stdout",
     "output_type": "stream",
     "text": [
      "number of classes (samples) inside the dataset ... train (validation)\n",
      "       ggh nevent =    2766.00 [  10881.00]\n",
      "       vbf nevent =   28956.00 [ 115709.00]\n",
      "     dipho nevent =  117222.00 [ 468203.00]\n",
      "       QCD nevent =   23473.00 [  94876.00]\n"
     ]
    }
   ],
   "source": [
    "import collections \n",
    "print \"number of classes (samples) inside the dataset ... train (validation)\"\n",
    "for p in collections.Counter(I):\n",
    "    print \"%10s nevent = %10.2f [%10.2f]\" % ( p, W_train[I_train==p].shape[0], W_valid[I_valid==p].shape[0])"
   ]
  },
  {
   "cell_type": "code",
   "execution_count": 12,
   "metadata": {},
   "outputs": [],
   "source": [
    "def normalize_weights(weights, classes):\n",
    "    weights_ = np.copy(weights)\n",
    "    for cl in np.unique(classes):\n",
    "        weights_[classes==cl] = weights_[classes==cl]/np.sum(weights_[classes==cl])\n",
    "    return weights_\n",
    "\n",
    "weights_train = {}\n",
    "\n",
    "weights_train['target'] = normalize_weights(W_train,Y_train)"
   ]
  },
  {
   "cell_type": "code",
   "execution_count": 31,
   "metadata": {},
   "outputs": [
    {
     "name": "stdout",
     "output_type": "stream",
     "text": [
      "{'moriond': GradientBoostingClassifier(criterion='friedman_mse', init=None,\n",
      "              learning_rate=0.1, loss='deviance', max_depth=5,\n",
      "              max_features='auto', max_leaf_nodes=None,\n",
      "              min_impurity_decrease=0.0, min_impurity_split=None,\n",
      "              min_samples_leaf=0.001, min_samples_split=2,\n",
      "              min_weight_fraction_leaf=0.0, n_estimators=100,\n",
      "              presort='auto', random_state=None, subsample=0.5, verbose=1,\n",
      "              warm_start=False)}\n"
     ]
    }
   ],
   "source": [
    "from sklearn.ensemble   import GradientBoostingClassifier as GBC\n",
    "from pprint import pprint\n",
    "\n",
    "classifier = {\n",
    "    \"moriond\" : GBC(\n",
    "        learning_rate=0.1,\n",
    "        max_depth=5,\n",
    "        max_features='auto', \n",
    "        min_samples_leaf=0.001, \n",
    "        min_samples_split=2,\n",
    "        n_estimators=100,\n",
    "        presort='auto', \n",
    "        subsample=0.5, \n",
    "        verbose=1,\n",
    "        warm_start=False)\n",
    "}\n",
    "pprint(classifier)"
   ]
  },
  {
   "cell_type": "code",
   "execution_count": 32,
   "metadata": {},
   "outputs": [
    {
     "name": "stdout",
     "output_type": "stream",
     "text": [
      "target-moriond\n"
     ]
    }
   ],
   "source": [
    "from sklearn.base import clone\n",
    "\n",
    "clfs = {}\n",
    "for i in weights_train:\n",
    "    for c in classifier:\n",
    "        if 'xsec' in i and 'new' in c: continue\n",
    "        print i +'-'+ c\n",
    "        clfs[i+'-'+c]   = clone(classifier[c])"
   ]
  },
  {
   "cell_type": "code",
   "execution_count": 33,
   "metadata": {},
   "outputs": [
    {
     "name": "stdout",
     "output_type": "stream",
     "text": [
      " -- training :  target-moriond\n",
      "      Iter       Train Loss      OOB Improve   Remaining Time \n",
      "         1           1.3014           0.0825            1.09m\n",
      "         2           1.2310           0.0666            1.07m\n",
      "         3           1.1737           0.0569            1.04m\n",
      "         4           1.1209           0.0480            1.02m\n",
      "         5           1.0808           0.0411            1.01m\n",
      "         6           1.0485           0.0351           59.80s\n",
      "         7           1.0129           0.0304           58.95s\n",
      "         8           0.9899           0.0260           57.79s\n",
      "         9           0.9590           0.0227           56.96s\n",
      "        10           0.9360           0.0204           56.17s\n",
      "        20           0.8173           0.0063           48.43s\n",
      "        30           0.7759           0.0021           44.43s\n",
      "        40           0.7378           0.0008           44.48s\n",
      "        50           0.7404           0.0003           38.53s\n",
      "        60           0.7275          -0.0003           29.52s\n",
      "        70           0.7206           0.0001           21.50s\n",
      "        80           0.7266          -0.0005           13.98s\n",
      "        90           0.7182          -0.0030            6.85s\n",
      "       100           0.7034          -0.0002            0.00s\n"
     ]
    }
   ],
   "source": [
    "from sklearn.metrics import roc_curve, auc, roc_auc_score\n",
    "rocs = {}\n",
    "prob = {}\n",
    "cfun = {}\n",
    "\n",
    "rocs_valid = {}\n",
    "prob_valid = {}\n",
    "cfun_valid = {}\n",
    "\n",
    "for i, c in clfs.items():\n",
    "    print ' -- training : ', i\n",
    "    c.fit ( X_train, Y_train, sample_weight= weights_train[i.split('-')[0]])\n",
    "    \n",
    "    prob[i] = c.predict_proba(X_train)[:,1]\n",
    "    rocs[i] = roc_curve( Y_train,prob[i],sample_weight=W_train)\n",
    "\n",
    "    prob_valid[i] = c.predict_proba(X_valid)[:,1]\n",
    "    rocs_valid[i] = roc_curve( Y_valid,prob_valid[i],sample_weight=W_valid)"
   ]
  },
  {
   "cell_type": "code",
   "execution_count": 34,
   "metadata": {},
   "outputs": [],
   "source": [
    "def evaluate_sklearn(cls, vals, coef=1):\n",
    "    scale = 1.0 / cls.n_estimators\n",
    "    ret = np.zeros(vals.shape[0])\n",
    "\n",
    "    learning_rate = cls.learning_rate\n",
    "    for itree, t in enumerate(cls.estimators_[:, 0]):\n",
    "        r = t.predict(vals)\n",
    "        ret += r * scale\n",
    "    return 2.0/(1.0 + np.exp(-coef/learning_rate * ret)) - 1"
   ]
  },
  {
   "cell_type": "code",
   "execution_count": 35,
   "metadata": {},
   "outputs": [
    {
     "data": {
      "image/png": "[encoded data removed]",
      "text/plain": [
       "<matplotlib.figure.Figure at 0x15a454450>"
      ]
     },
     "metadata": {},
     "output_type": "display_data"
    }
   ],
   "source": [
    "for i in clfs.keys():\n",
    "    tmva_train = evaluate_sklearn(clfs[i],X_train)\n",
    "    tmva_valid = evaluate_sklearn(clfs[i],X_valid)\n",
    "    plt.figure(figsize=(5,5))\n",
    "    plt.title(i)\n",
    "    plt.hist(tmva_train[(Y_train<0.5)], bins=50,\n",
    "             weights=W_train[(Y_train<0.5)], \n",
    "             range=[-1,1],\n",
    "             alpha=0.5, histtype='stepfilled', normed=1)\n",
    "    plt.hist(tmva_train[(Y_train>0.5)], bins=50,\n",
    "             weights=W_train[(Y_train>0.5)], \n",
    "             range=[-1,1],\n",
    "             alpha=0.5, histtype='stepfilled', normed=1)\n",
    "\n",
    "    plt.hist(tmva_train[I_train == 'ggh'], bins=50,\n",
    "             weights=W_train[I_train == 'ggh'], \n",
    "             range=[-1,1],\n",
    "             alpha=0.5, histtype='step', color = 'blue',lw=1.2, normed=1)\n",
    "    plt.show()"
   ]
  },
  {
   "cell_type": "code",
   "execution_count": 36,
   "metadata": {},
   "outputs": [],
   "source": [
    "from sklearn.metrics           import roc_curve, auc, roc_auc_score\n",
    "def plot_rocs(rocs = {}, dump=False, range=[[0,1],[0,1]], label='', title='', rocs_train=None):\n",
    "    plt.figure(figsize=(5,4.5))\n",
    "    for k, spine in plt.gca().spines.items():\n",
    "        spine.set_zorder(10)\n",
    "    plt.gca().xaxis.grid(which='major', color='0.7' , linestyle='--',dashes=(5,1),zorder=0)\n",
    "    plt.gca().yaxis.grid(which='major', color='0.7' , linestyle='--',dashes=(5,1),zorder=0)\n",
    "    print '--- draw some roc curve with scores : '\n",
    "    for name,roc in rocs.items():\n",
    "        fpr, tpr, thr = roc\n",
    "        roc_auc_ = auc(fpr, tpr, reorder=True)\n",
    "        print \"%20s %1.4f\" % ( name, roc_auc_ )\n",
    "        plt.plot(fpr, tpr, label=name+'(area = %0.4f)'%(roc_auc_), zorder=5, lw=1.2)\n",
    "    if rocs_train is not None : \n",
    "        for name,roc in rocs_train.items():\n",
    "            fpr, tpr, thr = roc\n",
    "            roc_auc_ = auc(fpr, tpr, reorder=True)\n",
    "            print \"%20s %1.4f\" % ( name, roc_auc_ )\n",
    "            plt.plot(fpr, tpr, label=name+' train (area = %0.4f)'%(roc_auc_), zorder=5, lw=1.2, ls='--')\n",
    "    plt.plot([0, 1], [0, 1], '--', color=(0.6, 0.6, 0.6), label='Luck', zorder=5)\n",
    "    plt.xlabel('False positive rate')\n",
    "    plt.ylabel('True positive rate')\n",
    "    plt.title (title)\n",
    "    plt.legend(loc='best')\n",
    "    #plt.legend(bbox_to_anchor=(1.05, 1), loc=2, borderaxespad=0.)\n",
    "    plt.grid()\n",
    "    plt.xlim(range[0])\n",
    "    plt.ylim(range[1])\n",
    "    plt.tight_layout()\n",
    "    plt.savefig('roc_'+label+'.pdf')\n",
    "    plt.show()"
   ]
  },
  {
   "cell_type": "code",
   "execution_count": 37,
   "metadata": {},
   "outputs": [
    {
     "name": "stdout",
     "output_type": "stream",
     "text": [
      "--- draw some roc curve with scores : \n",
      "      target-moriond 0.9051\n"
     ]
    },
    {
     "data": {
      "image/png": "[encoded data removed]",
      "text/plain": [
       "<matplotlib.figure.Figure at 0x15a0cefd0>"
      ]
     },
     "metadata": {},
     "output_type": "display_data"
    }
   ],
   "source": [
    "plot_rocs(rocs_valid, label='cross-check', title = 'cross-check')"
   ]
  },
  {
   "cell_type": "code",
   "execution_count": 40,
   "metadata": {},
   "outputs": [],
   "source": [
    "def compare_train_test(clf,x_train,y_train,w_train,x_test,y_test,w_test, bins=100, label=''):\n",
    "    fig = plt.figure(figsize=(5,5))\n",
    "    plt.title(label)\n",
    "    decisions = []\n",
    "    weight    = []\n",
    "    print clf\n",
    "    for x,y,w in ((x_train, y_train, w_train), (x_test, y_test, w_test)):\n",
    "        print x.shape\n",
    "        #d1 = clf.predict_proba(x[y>0.5])[:,1]\n",
    "        #d2 = clf.predict_proba(x[y<0.5])[:,1].ravel()\n",
    "        d1 = evaluate_sklearn(clf,x[y>0.5])\n",
    "        d2 = evaluate_sklearn(clf,x[y<0.5])\n",
    "        w1 = w[y>0.5]\n",
    "        w2 = w[y<0.5]\n",
    "        decisions += [d1, d2]\n",
    "        weight    += [w1, w2]\n",
    "        \n",
    "    low  = min(np.min(d) for d in decisions)\n",
    "    high = max(np.max(d) for d in decisions)\n",
    "    low_high = (low,high)\n",
    "    \n",
    "    plt.hist(decisions[0],\n",
    "             color='r', alpha=0.5, range=low_high, bins=bins,\n",
    "             histtype='stepfilled', normed=True,\n",
    "             weights = weight[0], \n",
    "             label='S (train)')\n",
    "    plt.hist(decisions[1],\n",
    "             color='b', alpha=0.5, range=low_high, bins=bins,\n",
    "             histtype='stepfilled', normed=True,\n",
    "             weights = weight[1], \n",
    "             label='B (train)')\n",
    "\n",
    "    hist, bins = np.histogram(decisions[2],\n",
    "                              bins=bins, range=low_high, normed=True, weights = weight[2] )\n",
    "    scale = len(decisions[2]) / sum(hist)\n",
    "    err = np.sqrt(hist * scale) / scale\n",
    "    \n",
    "    width = (bins[1] - bins[0])\n",
    "    center = (bins[:-1] + bins[1:]) / 2\n",
    "    plt.errorbar(center, hist, yerr=err, fmt='.', c='r', label='S (test)', markersize=8,capthick=0)\n",
    "    \n",
    "    hist, bins = np.histogram(decisions[3],\n",
    "                              bins=bins, range=low_high, normed=True, weights = weight[3])\n",
    "    scale = len(decisions[2]) / sum(hist)\n",
    "    err = np.sqrt(hist * scale) / scale\n",
    "\n",
    "    plt.errorbar(center, hist, yerr=err, fmt='.', c='b', label='B (test)', markersize=8,capthick=0)\n",
    "\n",
    "    plt.xlabel(\"BDT output\")\n",
    "    plt.ylabel(\"Arbitrary units\")\n",
    "    plt.legend(loc='best')\n",
    "    plt.ylim([0.01, 2*max(hist)])\n",
    "    plt.savefig('overtrain_%s.pdf' % label)\n",
    "    plt.show()"
   ]
  },
  {
   "cell_type": "code",
   "execution_count": 41,
   "metadata": {},
   "outputs": [
    {
     "name": "stdout",
     "output_type": "stream",
     "text": [
      " ---  target-moriond\n",
      "GradientBoostingClassifier(criterion='friedman_mse', init=None,\n",
      "              learning_rate=0.1, loss='deviance', max_depth=5,\n",
      "              max_features='auto', max_leaf_nodes=None,\n",
      "              min_impurity_decrease=0.0, min_impurity_split=None,\n",
      "              min_samples_leaf=0.001, min_samples_split=2,\n",
      "              min_weight_fraction_leaf=0.0, n_estimators=100,\n",
      "              presort='auto', random_state=None, subsample=0.5, verbose=1,\n",
      "              warm_start=False)\n",
      "(172417, 10)\n",
      "(689669, 10)\n"
     ]
    },
    {
     "data": {
      "image/png": "[encoded data removed]",
      "text/plain": [
       "<matplotlib.figure.Figure at 0x15a1b8b90>"
      ]
     },
     "metadata": {},
     "output_type": "display_data"
    }
   ],
   "source": [
    "for i, c in clfs.items():\n",
    "    print \" --- \", i\n",
    "    compare_train_test(c,\n",
    "                       X_train,Y_train,W_train, \n",
    "                       X_valid,Y_valid,W_valid, label=i)"
   ]
  },
  {
   "cell_type": "code",
   "execution_count": null,
   "metadata": {},
   "outputs": [],
   "source": []
  }
 ],
 "metadata": {
  "kernel_info": {
   "name": "python2"
  },
  "kernelspec": {
   "display_name": "Python 2",
   "language": "python",
   "name": "python2"
  },
  "language_info": {
   "codemirror_mode": {
    "name": "ipython",
    "version": 2
   },
   "file_extension": ".py",
   "mimetype": "text/x-python",
   "name": "python",
   "nbconvert_exporter": "python",
   "pygments_lexer": "ipython2",
   "version": "2.7.14"
  }
 },
 "nbformat": 4,
 "nbformat_minor": 1
}
